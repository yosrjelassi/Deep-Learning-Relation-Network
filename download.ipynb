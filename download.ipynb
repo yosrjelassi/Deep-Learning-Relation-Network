{
 "cells": [
  {
   "cell_type": "code",
   "execution_count": 3,
   "metadata": {},
   "outputs": [
    {
     "name": "stderr",
     "output_type": "stream",
     "text": [
      "Downloading...\n",
      "From (uriginal): https://drive.google.com/uc?id=1ZTQJu6kzHSj2BE1tIjPGN23dlUZ6i9Zp\n",
      "From (redirected): https://drive.google.com/uc?id=1ZTQJu6kzHSj2BE1tIjPGN23dlUZ6i9Zp&confirm=t&uuid=f8d7e1d9-69b9-4a2c-903c-a201e03fe171\n",
      "To: /home/hichemhadhri/DL-Biomed-Relational/data/swissprot/data-1.zip\n"
     ]
    },
    {
     "name": "stderr",
     "output_type": "stream",
     "text": [
      "100%|██████████| 5.58G/5.58G [00:26<00:00, 210MB/s]\n"
     ]
    },
    {
     "data": {
      "text/plain": [
       "'data/swissprot/data-1.zip'"
      ]
     },
     "execution_count": 3,
     "metadata": {},
     "output_type": "execute_result"
    }
   ],
   "source": [
    "import gdown\n",
    "\n",
    "# Replace the 'file_id' with the actual file ID from the Google Drive shareable link\n",
    "file_id = '1ZTQJu6kzHSj2BE1tIjPGN23dlUZ6i9Zp'\n",
    "url = f'https://drive.google.com/uc?id={file_id}'\n",
    "\n",
    "# Replace 'output' with the desired output file name\n",
    "output = 'data/swissprot/data-1.zip'\n",
    "\n",
    "gdown.download(url, output, quiet=False)\n",
    "\n",
    "# extract the data\n",
    "import zipfile\n",
    "with zipfile.ZipFile(output, 'r') as zip_ref:\n",
    "    zip_ref.extractall('data/swissprot/')"
   ]
  },
  {
   "cell_type": "code",
   "execution_count": 5,
   "metadata": {},
   "outputs": [
    {
     "name": "stderr",
     "output_type": "stream",
     "text": [
      "Downloading...\n",
      "From (uriginal): https://drive.google.com/uc?id=1a3IFmUMUXBH8trx_VWKZEGteRiotOkZS\n",
      "From (redirected): https://drive.google.com/uc?id=1a3IFmUMUXBH8trx_VWKZEGteRiotOkZS&confirm=t&uuid=189b7901-a897-4d8f-abe7-f229250a74a5\n",
      "To: /home/hichemhadhri/DL-Biomed-Relational/data/swissprot/data-2.zip\n",
      "100%|██████████| 180M/180M [00:03<00:00, 54.5MB/s]\n"
     ]
    }
   ],
   "source": [
    "import gdown\n",
    "\n",
    "# Replace the 'file_id' with the actual file ID from the Google Drive shareable link\n",
    "file_id = '1a3IFmUMUXBH8trx_VWKZEGteRiotOkZS'\n",
    "url = f'https://drive.google.com/uc?id={file_id}'\n",
    "\n",
    "# Replace 'output' with the desired output file name\n",
    "output = 'data/swissprot/data-2.zip'\n",
    "\n",
    "gdown.download(url, output, quiet=False)\n",
    "\n",
    "# extract the data\n",
    "import zipfile\n",
    "with zipfile.ZipFile(output, 'r') as zip_ref:\n",
    "    zip_ref.extractall('./')\n"
   ]
  },
  {
   "cell_type": "code",
   "execution_count": 6,
   "metadata": {},
   "outputs": [
    {
     "name": "stderr",
     "output_type": "stream",
     "text": [
      "Downloading...\n",
      "From (uriginal): https://drive.google.com/uc?id=1vRR5EeeE0JfgdFYNoput1yR2H6wNWAG2\n",
      "From (redirected): https://drive.google.com/uc?id=1vRR5EeeE0JfgdFYNoput1yR2H6wNWAG2&confirm=t&uuid=d181198d-6638-497f-8deb-5d005fcbfda0\n",
      "To: /home/hichemhadhri/DL-Biomed-Relational/data/swissprot/data-3.zip\n",
      "100%|██████████| 161M/161M [00:03<00:00, 41.7MB/s]\n"
     ]
    }
   ],
   "source": [
    "# Replace the 'file_id' with the actual file ID from the Google Drive shareable link\n",
    "file_id = '1vRR5EeeE0JfgdFYNoput1yR2H6wNWAG2'\n",
    "url = f'https://drive.google.com/uc?id={file_id}'\n",
    "\n",
    "# Replace 'output' with the desired output file name\n",
    "output = 'data/swissprot/data-3.zip'\n",
    "\n",
    "gdown.download(url, output, quiet=False)\n",
    "\n",
    "# extract the data\n",
    "import zipfile\n",
    "with zipfile.ZipFile(output, 'r') as zip_ref:\n",
    "    zip_ref.extractall('data/swissprot/')"
   ]
  }
 ],
 "metadata": {
  "kernelspec": {
   "display_name": "fewshotbench",
   "language": "python",
   "name": "python3"
  },
  "language_info": {
   "codemirror_mode": {
    "name": "ipython",
    "version": 3
   },
   "file_extension": ".py",
   "mimetype": "text/x-python",
   "name": "python",
   "nbconvert_exporter": "python",
   "pygments_lexer": "ipython3",
   "version": "3.10.11"
  }
 },
 "nbformat": 4,
 "nbformat_minor": 2
}
